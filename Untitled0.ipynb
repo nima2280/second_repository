{
  "nbformat": 4,
  "nbformat_minor": 0,
  "metadata": {
    "colab": {
      "provenance": []
    },
    "kernelspec": {
      "name": "python3",
      "display_name": "Python 3"
    },
    "language_info": {
      "name": "python"
    }
  },
  "cells": [
    {
      "cell_type": "code",
      "execution_count": 3,
      "metadata": {
        "colab": {
          "base_uri": "https://localhost:8080/"
        },
        "id": "wv6ItjRCpbAe",
        "outputId": "26a4981f-51f3-46f4-ea43-084270fcc7ee"
      },
      "outputs": [
        {
          "output_type": "stream",
          "name": "stdout",
          "text": [
            "Hello! And welcome to the Password Generator!\n",
            "How many letters would you like in your password?\n",
            "2\n",
            "How many symbols would you like?\n",
            "2\n",
            "How many numbers would you like?\n",
            "2\n",
            "0\n",
            "1\n",
            "0\n",
            "1\n",
            "0\n",
            "1\n",
            " NV!$96\n"
          ]
        }
      ],
      "source": [
        "#Password Generator Project\n",
        "import random\n",
        "letters = ['a', 'b', 'c', 'd', 'e', 'f', 'g', 'h', 'i', 'j', 'k', 'l', 'm', 'n', 'o', 'p', 'q', 'r', 's', 't', 'u', 'v', 'w', 'x', 'y', 'z', 'A', 'B', 'C', 'D', 'E', 'F', 'G', 'H', 'I', 'J', 'K', 'L', 'M', 'N', 'O', 'P', 'Q', 'R', 'S', 'T', 'U', 'V', 'W', 'X', 'Y', 'Z']\n",
        "numbers = ['0', '1', '2', '3', '4', '5', '6', '7', '8', '9']\n",
        "symbols = ['!', '#', '$', '%', '&', '(', ')', '*', '+']\n",
        "\n",
        "print(\"Hello! And welcome to the Password Generator!\")\n",
        "az_letters= int(input(\"How many letters would you like in your password?\\n\"))\n",
        "az_symbols = int(input(f\"How many symbols would you like?\\n\"))\n",
        "az_numbers = int(input(f\"How many numbers would you like?\\n\"))\n",
        "\n",
        "def password_generator(az_letters, az_symbols, az_numbers):\n",
        "  password = ' '\n",
        "  for i in range(az_letters):\n",
        "    password += random.choice(letters)\n",
        "    print(i)\n",
        "  for i in range(az_symbols):\n",
        "      password += random.choice(symbols)\n",
        "      print(i)\n",
        "  for i in range(az_numbers):\n",
        "    password += random.choice(numbers)\n",
        "    print(i)\n",
        "\n",
        "  return password\n",
        "\n",
        "print(password_generator(az_letters, az_symbols, az_numbers))"
      ]
    }
  ]
}